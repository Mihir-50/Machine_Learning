{
  "nbformat": 4,
  "nbformat_minor": 0,
  "metadata": {
    "colab": {
      "name": "multiple-linear-regression.ipynb",
      "provenance": []
    },
    "kernelspec": {
      "name": "python3",
      "display_name": "Python 3"
    },
    "language_info": {
      "name": "python"
    }
  },
  "cells": [
    {
      "cell_type": "code",
      "metadata": {
        "id": "dd82LHwLmpkF"
      },
      "source": [
        "from sklearn.datasets import make_regression\n",
        "import pandas as pd\n",
        "import numpy as np\n",
        "\n",
        "import plotly.express as px\n",
        "import plotly.graph_objects as go\n",
        "\n",
        "from sklearn.metrics import mean_absolute_error,mean_squared_error,r2_score"
      ],
      "execution_count": 1,
      "outputs": []
    },
    {
      "cell_type": "code",
      "metadata": {
        "id": "o-kkwl10m9Ef"
      },
      "source": [
        "X,y = make_regression(n_samples=100, n_features=2, n_informative=2, n_targets=1, noise=50)"
      ],
      "execution_count": 2,
      "outputs": []
    },
    {
      "cell_type": "code",
      "source": [
        "X"
      ],
      "metadata": {
        "id": "gMjdG0aPNiM6",
        "outputId": "1fbf55fd-3f05-4dc5-fec2-e4e43faf9489",
        "colab": {
          "base_uri": "https://localhost:8080/"
        }
      },
      "execution_count": 4,
      "outputs": [
        {
          "output_type": "execute_result",
          "data": {
            "text/plain": [
              "array([[ 2.31039406,  0.96191555],\n",
              "       [-0.71691921,  0.22918447],\n",
              "       [ 0.76235513, -0.25301991],\n",
              "       [ 2.12058097,  0.04027454],\n",
              "       [-0.94661553,  0.29794505],\n",
              "       [ 1.58550539, -1.0935131 ],\n",
              "       [-0.22509656, -2.05661092],\n",
              "       [-1.26671306, -1.90896636],\n",
              "       [ 0.84832483, -0.67832131],\n",
              "       [ 0.74516413,  0.68310528],\n",
              "       [ 2.12281632,  0.19540939],\n",
              "       [ 2.18535114, -1.14204897],\n",
              "       [-0.71435281, -0.66860037],\n",
              "       [ 1.19542951,  0.21231364],\n",
              "       [ 0.32008912, -0.62051238],\n",
              "       [-1.41855911, -0.59529107],\n",
              "       [-1.10729158,  0.02290064],\n",
              "       [-0.30606704,  0.68114487],\n",
              "       [ 1.38037214,  0.6442377 ],\n",
              "       [ 0.09996057, -0.52572252],\n",
              "       [-1.12777341,  0.41886984],\n",
              "       [-0.70803523,  0.93610877],\n",
              "       [-1.40564771, -2.54492123],\n",
              "       [ 1.76438171, -1.7338494 ],\n",
              "       [ 1.11968565,  0.86677094],\n",
              "       [-3.03041434, -2.27225141],\n",
              "       [-0.80676584, -1.36556243],\n",
              "       [ 0.45550706, -0.45735523],\n",
              "       [ 0.25837334,  0.80139408],\n",
              "       [ 0.79654748, -1.29706218],\n",
              "       [-0.37842286, -1.44795039],\n",
              "       [ 1.0204718 ,  0.53829782],\n",
              "       [ 1.56362186,  0.3109552 ],\n",
              "       [-0.2061095 , -1.22888824],\n",
              "       [ 0.61117378,  0.52711671],\n",
              "       [ 1.2226562 ,  0.97691022],\n",
              "       [-0.00886378,  1.36545517],\n",
              "       [ 1.66221204,  2.26268531],\n",
              "       [ 0.56556487, -0.35407851],\n",
              "       [ 0.73238199, -2.25622914],\n",
              "       [-0.06467915,  0.18465602],\n",
              "       [ 0.97485783,  1.3420219 ],\n",
              "       [ 0.27771507,  0.90909403],\n",
              "       [ 1.55610024, -0.91567859],\n",
              "       [-0.12754668,  0.53097725],\n",
              "       [ 1.71404024,  1.53787889],\n",
              "       [-0.34787955,  0.56575462],\n",
              "       [-0.79840198,  0.33350979],\n",
              "       [ 1.7396618 ,  0.35026354],\n",
              "       [ 1.15669415,  1.09930919],\n",
              "       [-1.23450463,  0.41337423],\n",
              "       [ 0.84486402,  0.69947266],\n",
              "       [-1.67071214, -1.49549635],\n",
              "       [ 0.0346995 ,  0.68835744],\n",
              "       [-0.01969832, -0.69325633],\n",
              "       [-0.34452783,  0.62798294],\n",
              "       [-0.01184757, -0.18161519],\n",
              "       [ 0.22940452,  1.56815525],\n",
              "       [ 1.26866898,  1.22206738],\n",
              "       [ 0.72968996, -0.30593043],\n",
              "       [-0.18865252, -0.06845511],\n",
              "       [-0.83628139, -0.70080337],\n",
              "       [ 0.30977936, -0.15501522],\n",
              "       [ 1.77570937,  0.06720537],\n",
              "       [ 0.18103051,  0.12865525],\n",
              "       [-0.20514299,  0.3661193 ],\n",
              "       [-0.22587995,  0.28937168],\n",
              "       [-0.975143  ,  1.49519616],\n",
              "       [-0.57168757,  1.08758069],\n",
              "       [-0.63772357,  0.2174598 ],\n",
              "       [ 0.30296946,  0.06455605],\n",
              "       [ 0.27623675,  0.6007054 ],\n",
              "       [ 1.03653999, -1.15925766],\n",
              "       [ 1.12949856, -0.57267097],\n",
              "       [ 1.47058934, -0.76533284],\n",
              "       [-1.14459192, -0.49344041],\n",
              "       [ 0.28666687,  0.0450884 ],\n",
              "       [-0.38752295, -0.44262496],\n",
              "       [ 1.01869389,  1.75137654],\n",
              "       [-1.04045668,  0.4064708 ],\n",
              "       [ 0.47275984,  0.11474718],\n",
              "       [-0.33863749, -1.63946766],\n",
              "       [-0.45058126, -1.05747168],\n",
              "       [ 1.89071509,  0.2888397 ],\n",
              "       [-0.77450869, -0.85474383],\n",
              "       [-1.55995696,  0.8286173 ],\n",
              "       [ 1.50214252, -1.08607762],\n",
              "       [-0.77070436, -0.43802112],\n",
              "       [-1.28723336, -0.00377024],\n",
              "       [ 0.17283104,  0.56219995],\n",
              "       [-1.12898087, -1.19476058],\n",
              "       [ 0.75166932,  0.95074686],\n",
              "       [-0.0585875 , -0.54156405],\n",
              "       [-1.16107933, -2.50063399],\n",
              "       [-1.35808214,  0.28336261],\n",
              "       [-0.26806085,  0.5011899 ],\n",
              "       [ 0.03786022, -0.20049453],\n",
              "       [-0.3993424 ,  0.38161481],\n",
              "       [ 2.51291699,  0.99141824],\n",
              "       [ 0.65263558, -0.06152875]])"
            ]
          },
          "metadata": {},
          "execution_count": 4
        }
      ]
    },
    {
      "cell_type": "code",
      "source": [
        "y"
      ],
      "metadata": {
        "id": "Cae4yerFNmjB",
        "outputId": "dc93ba08-8b66-4daf-cd4b-d7ecf328c642",
        "colab": {
          "base_uri": "https://localhost:8080/"
        }
      },
      "execution_count": 5,
      "outputs": [
        {
          "output_type": "execute_result",
          "data": {
            "text/plain": [
              "array([  71.92467428,   -8.55481664,    6.29163425,  113.58004792,\n",
              "       -115.85136345,  -96.09593306, -130.45071438, -166.44875088,\n",
              "          7.28637053,   96.77879264,   33.23442758, -132.06720073,\n",
              "        -57.63964422,   40.85416021,   -8.30411607,   28.4195274 ,\n",
              "        -38.87995514,  -28.5030261 ,   64.62317759,  -47.90020867,\n",
              "         -2.5536664 ,   70.47424232, -127.85042541, -182.87420722,\n",
              "        121.94267969, -230.5262195 , -120.10046148,   -3.24837831,\n",
              "         22.64369138,  -15.24236951,  -84.31996242,   67.70424451,\n",
              "         38.44166171,  -83.74433636,   26.3396505 ,   44.2501989 ,\n",
              "        145.59884197,  139.94361106,  -58.62871039, -143.42242613,\n",
              "        -30.79849587,   64.29985908,   49.07152469, -106.96774302,\n",
              "         32.96802618,   78.46609524,   26.09828793,  -66.68916368,\n",
              "         54.00499389,   98.59851362,   43.35154688,  121.86426412,\n",
              "       -100.96857556,   72.0037077 ,  -50.06082516,  119.82678949,\n",
              "          2.35656537,  126.58459116,  191.91491868,  -59.22199129,\n",
              "          7.59440465,   -3.98074884,  -77.37481044,    7.56263381,\n",
              "         34.00345439,  123.19980901,   80.197599  ,  100.51236299,\n",
              "         55.55257017,   92.13524166,   63.28308843,   -9.07222986,\n",
              "       -114.8395069 ,   -4.80340514,   62.09915012,  -74.45619792,\n",
              "         30.6631709 ,   31.31244284,   82.05579457,   36.23841623,\n",
              "          5.47739888,  -97.53340229,  -23.59725055,   16.93860364,\n",
              "       -105.63371273,  135.61836179,  -73.59518444,  -64.40356631,\n",
              "         70.34589249,   39.31021607,  -79.69328244,  130.61386093,\n",
              "         26.97962578, -103.12140763,   79.2149982 ,   34.1909379 ,\n",
              "        -59.95024725,  -69.47591087,  128.26637825,  -23.64692274])"
            ]
          },
          "metadata": {},
          "execution_count": 5
        }
      ]
    },
    {
      "cell_type": "code",
      "metadata": {
        "id": "hf4eEtH5nNZC"
      },
      "source": [
        "df = pd.DataFrame({'feature1':X[:,0],'feature2':X[:,1],'target':y})"
      ],
      "execution_count": 6,
      "outputs": []
    },
    {
      "cell_type": "code",
      "metadata": {
        "colab": {
          "base_uri": "https://localhost:8080/"
        },
        "id": "hfz-7c5pmmOw",
        "outputId": "639e4f6f-682f-456c-d25a-1cbb3b402734"
      },
      "source": [
        "df.shape"
      ],
      "execution_count": 7,
      "outputs": [
        {
          "output_type": "execute_result",
          "data": {
            "text/plain": [
              "(100, 3)"
            ]
          },
          "metadata": {},
          "execution_count": 7
        }
      ]
    },
    {
      "cell_type": "code",
      "metadata": {
        "colab": {
          "base_uri": "https://localhost:8080/",
          "height": 206
        },
        "id": "01dAHVqsAuDp",
        "outputId": "53994f4f-29f2-4ff1-8c35-0aaedf153505"
      },
      "source": [
        "df.head()"
      ],
      "execution_count": 8,
      "outputs": [
        {
          "output_type": "execute_result",
          "data": {
            "text/plain": [
              "   feature1  feature2      target\n",
              "0  2.310394  0.961916   71.924674\n",
              "1 -0.716919  0.229184   -8.554817\n",
              "2  0.762355 -0.253020    6.291634\n",
              "3  2.120581  0.040275  113.580048\n",
              "4 -0.946616  0.297945 -115.851363"
            ],
            "text/html": [
              "\n",
              "  <div id=\"df-d97fd927-0645-4a54-919b-1eae152f913c\">\n",
              "    <div class=\"colab-df-container\">\n",
              "      <div>\n",
              "<style scoped>\n",
              "    .dataframe tbody tr th:only-of-type {\n",
              "        vertical-align: middle;\n",
              "    }\n",
              "\n",
              "    .dataframe tbody tr th {\n",
              "        vertical-align: top;\n",
              "    }\n",
              "\n",
              "    .dataframe thead th {\n",
              "        text-align: right;\n",
              "    }\n",
              "</style>\n",
              "<table border=\"1\" class=\"dataframe\">\n",
              "  <thead>\n",
              "    <tr style=\"text-align: right;\">\n",
              "      <th></th>\n",
              "      <th>feature1</th>\n",
              "      <th>feature2</th>\n",
              "      <th>target</th>\n",
              "    </tr>\n",
              "  </thead>\n",
              "  <tbody>\n",
              "    <tr>\n",
              "      <th>0</th>\n",
              "      <td>2.310394</td>\n",
              "      <td>0.961916</td>\n",
              "      <td>71.924674</td>\n",
              "    </tr>\n",
              "    <tr>\n",
              "      <th>1</th>\n",
              "      <td>-0.716919</td>\n",
              "      <td>0.229184</td>\n",
              "      <td>-8.554817</td>\n",
              "    </tr>\n",
              "    <tr>\n",
              "      <th>2</th>\n",
              "      <td>0.762355</td>\n",
              "      <td>-0.253020</td>\n",
              "      <td>6.291634</td>\n",
              "    </tr>\n",
              "    <tr>\n",
              "      <th>3</th>\n",
              "      <td>2.120581</td>\n",
              "      <td>0.040275</td>\n",
              "      <td>113.580048</td>\n",
              "    </tr>\n",
              "    <tr>\n",
              "      <th>4</th>\n",
              "      <td>-0.946616</td>\n",
              "      <td>0.297945</td>\n",
              "      <td>-115.851363</td>\n",
              "    </tr>\n",
              "  </tbody>\n",
              "</table>\n",
              "</div>\n",
              "      <button class=\"colab-df-convert\" onclick=\"convertToInteractive('df-d97fd927-0645-4a54-919b-1eae152f913c')\"\n",
              "              title=\"Convert this dataframe to an interactive table.\"\n",
              "              style=\"display:none;\">\n",
              "        \n",
              "  <svg xmlns=\"http://www.w3.org/2000/svg\" height=\"24px\"viewBox=\"0 0 24 24\"\n",
              "       width=\"24px\">\n",
              "    <path d=\"M0 0h24v24H0V0z\" fill=\"none\"/>\n",
              "    <path d=\"M18.56 5.44l.94 2.06.94-2.06 2.06-.94-2.06-.94-.94-2.06-.94 2.06-2.06.94zm-11 1L8.5 8.5l.94-2.06 2.06-.94-2.06-.94L8.5 2.5l-.94 2.06-2.06.94zm10 10l.94 2.06.94-2.06 2.06-.94-2.06-.94-.94-2.06-.94 2.06-2.06.94z\"/><path d=\"M17.41 7.96l-1.37-1.37c-.4-.4-.92-.59-1.43-.59-.52 0-1.04.2-1.43.59L10.3 9.45l-7.72 7.72c-.78.78-.78 2.05 0 2.83L4 21.41c.39.39.9.59 1.41.59.51 0 1.02-.2 1.41-.59l7.78-7.78 2.81-2.81c.8-.78.8-2.07 0-2.86zM5.41 20L4 18.59l7.72-7.72 1.47 1.35L5.41 20z\"/>\n",
              "  </svg>\n",
              "      </button>\n",
              "      \n",
              "  <style>\n",
              "    .colab-df-container {\n",
              "      display:flex;\n",
              "      flex-wrap:wrap;\n",
              "      gap: 12px;\n",
              "    }\n",
              "\n",
              "    .colab-df-convert {\n",
              "      background-color: #E8F0FE;\n",
              "      border: none;\n",
              "      border-radius: 50%;\n",
              "      cursor: pointer;\n",
              "      display: none;\n",
              "      fill: #1967D2;\n",
              "      height: 32px;\n",
              "      padding: 0 0 0 0;\n",
              "      width: 32px;\n",
              "    }\n",
              "\n",
              "    .colab-df-convert:hover {\n",
              "      background-color: #E2EBFA;\n",
              "      box-shadow: 0px 1px 2px rgba(60, 64, 67, 0.3), 0px 1px 3px 1px rgba(60, 64, 67, 0.15);\n",
              "      fill: #174EA6;\n",
              "    }\n",
              "\n",
              "    [theme=dark] .colab-df-convert {\n",
              "      background-color: #3B4455;\n",
              "      fill: #D2E3FC;\n",
              "    }\n",
              "\n",
              "    [theme=dark] .colab-df-convert:hover {\n",
              "      background-color: #434B5C;\n",
              "      box-shadow: 0px 1px 3px 1px rgba(0, 0, 0, 0.15);\n",
              "      filter: drop-shadow(0px 1px 2px rgba(0, 0, 0, 0.3));\n",
              "      fill: #FFFFFF;\n",
              "    }\n",
              "  </style>\n",
              "\n",
              "      <script>\n",
              "        const buttonEl =\n",
              "          document.querySelector('#df-d97fd927-0645-4a54-919b-1eae152f913c button.colab-df-convert');\n",
              "        buttonEl.style.display =\n",
              "          google.colab.kernel.accessAllowed ? 'block' : 'none';\n",
              "\n",
              "        async function convertToInteractive(key) {\n",
              "          const element = document.querySelector('#df-d97fd927-0645-4a54-919b-1eae152f913c');\n",
              "          const dataTable =\n",
              "            await google.colab.kernel.invokeFunction('convertToInteractive',\n",
              "                                                     [key], {});\n",
              "          if (!dataTable) return;\n",
              "\n",
              "          const docLinkHtml = 'Like what you see? Visit the ' +\n",
              "            '<a target=\"_blank\" href=https://colab.research.google.com/notebooks/data_table.ipynb>data table notebook</a>'\n",
              "            + ' to learn more about interactive tables.';\n",
              "          element.innerHTML = '';\n",
              "          dataTable['output_type'] = 'display_data';\n",
              "          await google.colab.output.renderOutput(dataTable, element);\n",
              "          const docLink = document.createElement('div');\n",
              "          docLink.innerHTML = docLinkHtml;\n",
              "          element.appendChild(docLink);\n",
              "        }\n",
              "      </script>\n",
              "    </div>\n",
              "  </div>\n",
              "  "
            ]
          },
          "metadata": {},
          "execution_count": 8
        }
      ]
    },
    {
      "cell_type": "code",
      "metadata": {
        "colab": {
          "base_uri": "https://localhost:8080/",
          "height": 542
        },
        "id": "kvlFl8W1Bn5p",
        "outputId": "35e4bdd2-0a7e-4b7a-f7a0-6e9a98af4fbf"
      },
      "source": [
        "fig = px.scatter_3d(df, x='feature1', y='feature2', z='target')\n",
        "\n",
        "fig.show()"
      ],
      "execution_count": 9,
      "outputs": [
        {
          "output_type": "display_data",
          "data": {
            "text/html": [
              "<html>\n",
              "<head><meta charset=\"utf-8\" /></head>\n",
              "<body>\n",
              "    <div>            <script src=\"https://cdnjs.cloudflare.com/ajax/libs/mathjax/2.7.5/MathJax.js?config=TeX-AMS-MML_SVG\"></script><script type=\"text/javascript\">if (window.MathJax && window.MathJax.Hub && window.MathJax.Hub.Config) {window.MathJax.Hub.Config({SVG: {font: \"STIX-Web\"}});}</script>                <script type=\"text/javascript\">window.PlotlyConfig = {MathJaxConfig: 'local'};</script>\n",
              "        <script src=\"https://cdn.plot.ly/plotly-2.18.2.min.js\"></script>                <div id=\"d42536f3-fd1b-4ee0-b05a-19df25b3d43e\" class=\"plotly-graph-div\" style=\"height:525px; width:100%;\"></div>            <script type=\"text/javascript\">                                    window.PLOTLYENV=window.PLOTLYENV || {};                                    if (document.getElementById(\"d42536f3-fd1b-4ee0-b05a-19df25b3d43e\")) {                    Plotly.newPlot(                        \"d42536f3-fd1b-4ee0-b05a-19df25b3d43e\",                        [{\"hovertemplate\":\"feature1=%{x}<br>feature2=%{y}<br>target=%{z}<extra></extra>\",\"legendgroup\":\"\",\"marker\":{\"color\":\"#636efa\",\"symbol\":\"circle\"},\"mode\":\"markers\",\"name\":\"\",\"scene\":\"scene\",\"showlegend\":false,\"x\":[2.310394058325249,-0.716919207439521,0.762355130266896,2.120580968212973,-0.9466155323631743,1.5855053944767188,-0.22509655879546414,-1.2667130646560603,0.8483248292572877,0.7451641287991301,2.122816316490886,2.1853511356832667,-0.7143528070753804,1.1954295104870871,0.32008912358505054,-1.4185591102884825,-1.1072915834492312,-0.3060670434752673,1.3803721430972073,0.09996057198416644,-1.1277734072520658,-0.7080352305592481,-1.405647711745832,1.764381714698507,1.119685649654444,-3.030414335330309,-0.8067658420645148,0.4555070632700418,0.2583733381909766,0.796547482554576,-0.3784228637365787,1.0204717953967497,1.563621859195776,-0.20610949626306135,0.6111737761195267,1.2226562010998512,-0.008863778363382539,1.6622120358964958,0.565564866590189,0.7323819942597499,-0.06467914951277585,0.9748578349058632,0.2777150701239236,1.5561002449662251,-0.1275466809001031,1.7140402430266257,-0.34787955279529037,-0.7984019770433234,1.739661796442273,1.1566941462655798,-1.2345046337695067,0.844864019699908,-1.6707121352145675,0.03469950389086645,-0.01969831848835499,-0.34452783191421266,-0.011847568912267684,0.22940452101540945,1.26866897902284,0.7296899583090709,-0.1886525155938576,-0.8362813936104385,0.30977936009871554,1.775709372375842,0.18103050796809322,-0.20514299393832575,-0.22587995139362527,-0.9751429979075525,-0.5716875726965361,-0.6377235653542215,0.30296946167215605,0.2762367536077572,1.0365399942173295,1.1294985632937578,1.4705893438397577,-1.1445919174733825,0.28666687217151987,-0.3875229538257548,1.0186938933919858,-1.0404566762645793,0.4727598440422205,-0.3386374907595567,-0.45058125883146827,1.8907150912375703,-0.774508685774569,-1.5599569628877643,1.502142522438015,-0.7707043633353005,-1.2872333557263584,0.17283103971587838,-1.128980873113741,0.751669323701847,-0.05858749634222028,-1.1610793340865015,-1.358082144147586,-0.2680608522766346,0.037860216459821336,-0.3993423984399713,2.5129169871826407,0.6526355797403771],\"y\":[0.9619155497754315,0.22918446502051165,-0.25301990633648497,0.04027453876603351,0.2979450511900882,-1.093513100400002,-2.0566109199807014,-1.9089663589965777,-0.6783213106063762,0.6831052804059276,0.19540938765948046,-1.1420489744868512,-0.6686003717006762,0.21231364428892974,-0.6205123795303751,-0.5952910700330561,0.022900643862889754,0.6811448683640672,0.6442377019970726,-0.5257225190513886,0.4188698428432046,0.9361087719128872,-2.5449212272352373,-1.7338493988634323,0.8667709373037127,-2.272251409402215,-1.3655624276348268,-0.45735523280171697,0.8013940754367156,-1.297062181672329,-1.4479503932828093,0.538297821434703,0.310955196999518,-1.22888823699697,0.5271167138118533,0.9769102226737257,1.3654551735118226,2.2626853097001036,-0.35407850515750877,-2.2562291367653984,0.1846560154693253,1.342021904136276,0.9090940265532179,-0.9156785900068674,0.5309772452963858,1.5378788933808212,0.565754623717521,0.3335097863899692,0.3502635441505459,1.0993091925004375,0.41337423020809594,0.6994726601470925,-1.4954963547135591,0.6883574424113249,-0.6932563318914798,0.6279829353690671,-0.18161518663970705,1.5681552549393363,1.2220673768545833,-0.30593042929026326,-0.06845510509044012,-0.7008033679747058,-0.15501521622829373,0.06720536528637365,0.12865524926398464,0.36611930441698093,0.28937168350698184,1.495196163749884,1.0875806871218705,0.21745979643499905,0.06455605239189093,0.6007053956621088,-1.159257659038236,-0.5726709714266016,-0.765332835067373,-0.4934404090924547,0.045088403447750065,-0.44262496259180295,1.7513765350381874,0.4064707951696508,0.11474717650879387,-1.6394676557682857,-1.057471681368482,0.2888396955546869,-0.854743825516101,0.8286172952209555,-1.0860776207091134,-0.4380211158147892,-0.003770243742621653,0.5621999543782895,-1.1947605817222748,0.9507468618789547,-0.5415640451048309,-2.500633988108316,0.28336261206185515,0.5011898964859647,-0.20049452969383458,0.3816148122365282,0.9914182395604703,-0.061528752926616664],\"z\":[71.92467428432901,-8.554816635626405,6.291634245553938,113.58004791616365,-115.85136345292376,-96.09593305774118,-130.45071437867668,-166.44875088428753,7.286370534868048,96.77879263784718,33.234427579412944,-132.06720073264205,-57.63964422019941,40.85416020950181,-8.304116067880202,28.419527403671268,-38.879955138411226,-28.50302610007585,64.62317758523105,-47.90020866636682,-2.553666400055068,70.47424232327236,-127.85042540543411,-182.8742072204047,121.94267969154069,-230.52621950197118,-120.10046147550926,-3.248378309913438,22.64369138068431,-15.24236950642991,-84.31996242291957,67.7042445140558,38.4416617060674,-83.7443363552714,26.33965050186025,44.250198900219445,145.5988419741988,139.94361105612285,-58.628710387801405,-143.42242613423588,-30.798495872895195,64.29985907703896,49.07152468605104,-106.96774302051182,32.9680261835199,78.4660952361312,26.09828792877891,-66.68916368025958,54.004993885056855,98.59851361797976,43.351546884646474,121.86426411972144,-100.96857555633103,72.00370770405222,-50.060825158476945,119.82678948775015,2.3565653727680775,126.58459116009718,191.91491868163303,-59.22199129003137,7.59440464685254,-3.9807488435376683,-77.37481044243202,7.56263380657264,34.00345438985148,123.1998090129727,80.19759900411731,100.51236299433397,55.55257016732328,92.13524165836293,63.28308843247329,-9.072229862852552,-114.83950689637524,-4.80340513879392,62.09915011647601,-74.45619792437358,30.663170900229346,31.312442843731304,82.05579457425583,36.238416228695925,5.47739888488348,-97.53340228579596,-23.59725054756028,16.938603638284928,-105.63371272769893,135.61836178819962,-73.59518443717477,-64.40356631339446,70.34589248801015,39.31021607012361,-79.69328243749874,130.61386093078534,26.979625776652824,-103.12140762986901,79.21499820477739,34.190937897563835,-59.95024724947166,-69.47591086586593,128.2663782481825,-23.646922737723408],\"type\":\"scatter3d\"}],                        {\"template\":{\"data\":{\"histogram2dcontour\":[{\"type\":\"histogram2dcontour\",\"colorbar\":{\"outlinewidth\":0,\"ticks\":\"\"},\"colorscale\":[[0.0,\"#0d0887\"],[0.1111111111111111,\"#46039f\"],[0.2222222222222222,\"#7201a8\"],[0.3333333333333333,\"#9c179e\"],[0.4444444444444444,\"#bd3786\"],[0.5555555555555556,\"#d8576b\"],[0.6666666666666666,\"#ed7953\"],[0.7777777777777778,\"#fb9f3a\"],[0.8888888888888888,\"#fdca26\"],[1.0,\"#f0f921\"]]}],\"choropleth\":[{\"type\":\"choropleth\",\"colorbar\":{\"outlinewidth\":0,\"ticks\":\"\"}}],\"histogram2d\":[{\"type\":\"histogram2d\",\"colorbar\":{\"outlinewidth\":0,\"ticks\":\"\"},\"colorscale\":[[0.0,\"#0d0887\"],[0.1111111111111111,\"#46039f\"],[0.2222222222222222,\"#7201a8\"],[0.3333333333333333,\"#9c179e\"],[0.4444444444444444,\"#bd3786\"],[0.5555555555555556,\"#d8576b\"],[0.6666666666666666,\"#ed7953\"],[0.7777777777777778,\"#fb9f3a\"],[0.8888888888888888,\"#fdca26\"],[1.0,\"#f0f921\"]]}],\"heatmap\":[{\"type\":\"heatmap\",\"colorbar\":{\"outlinewidth\":0,\"ticks\":\"\"},\"colorscale\":[[0.0,\"#0d0887\"],[0.1111111111111111,\"#46039f\"],[0.2222222222222222,\"#7201a8\"],[0.3333333333333333,\"#9c179e\"],[0.4444444444444444,\"#bd3786\"],[0.5555555555555556,\"#d8576b\"],[0.6666666666666666,\"#ed7953\"],[0.7777777777777778,\"#fb9f3a\"],[0.8888888888888888,\"#fdca26\"],[1.0,\"#f0f921\"]]}],\"heatmapgl\":[{\"type\":\"heatmapgl\",\"colorbar\":{\"outlinewidth\":0,\"ticks\":\"\"},\"colorscale\":[[0.0,\"#0d0887\"],[0.1111111111111111,\"#46039f\"],[0.2222222222222222,\"#7201a8\"],[0.3333333333333333,\"#9c179e\"],[0.4444444444444444,\"#bd3786\"],[0.5555555555555556,\"#d8576b\"],[0.6666666666666666,\"#ed7953\"],[0.7777777777777778,\"#fb9f3a\"],[0.8888888888888888,\"#fdca26\"],[1.0,\"#f0f921\"]]}],\"contourcarpet\":[{\"type\":\"contourcarpet\",\"colorbar\":{\"outlinewidth\":0,\"ticks\":\"\"}}],\"contour\":[{\"type\":\"contour\",\"colorbar\":{\"outlinewidth\":0,\"ticks\":\"\"},\"colorscale\":[[0.0,\"#0d0887\"],[0.1111111111111111,\"#46039f\"],[0.2222222222222222,\"#7201a8\"],[0.3333333333333333,\"#9c179e\"],[0.4444444444444444,\"#bd3786\"],[0.5555555555555556,\"#d8576b\"],[0.6666666666666666,\"#ed7953\"],[0.7777777777777778,\"#fb9f3a\"],[0.8888888888888888,\"#fdca26\"],[1.0,\"#f0f921\"]]}],\"surface\":[{\"type\":\"surface\",\"colorbar\":{\"outlinewidth\":0,\"ticks\":\"\"},\"colorscale\":[[0.0,\"#0d0887\"],[0.1111111111111111,\"#46039f\"],[0.2222222222222222,\"#7201a8\"],[0.3333333333333333,\"#9c179e\"],[0.4444444444444444,\"#bd3786\"],[0.5555555555555556,\"#d8576b\"],[0.6666666666666666,\"#ed7953\"],[0.7777777777777778,\"#fb9f3a\"],[0.8888888888888888,\"#fdca26\"],[1.0,\"#f0f921\"]]}],\"mesh3d\":[{\"type\":\"mesh3d\",\"colorbar\":{\"outlinewidth\":0,\"ticks\":\"\"}}],\"scatter\":[{\"fillpattern\":{\"fillmode\":\"overlay\",\"size\":10,\"solidity\":0.2},\"type\":\"scatter\"}],\"parcoords\":[{\"type\":\"parcoords\",\"line\":{\"colorbar\":{\"outlinewidth\":0,\"ticks\":\"\"}}}],\"scatterpolargl\":[{\"type\":\"scatterpolargl\",\"marker\":{\"colorbar\":{\"outlinewidth\":0,\"ticks\":\"\"}}}],\"bar\":[{\"error_x\":{\"color\":\"#2a3f5f\"},\"error_y\":{\"color\":\"#2a3f5f\"},\"marker\":{\"line\":{\"color\":\"#E5ECF6\",\"width\":0.5},\"pattern\":{\"fillmode\":\"overlay\",\"size\":10,\"solidity\":0.2}},\"type\":\"bar\"}],\"scattergeo\":[{\"type\":\"scattergeo\",\"marker\":{\"colorbar\":{\"outlinewidth\":0,\"ticks\":\"\"}}}],\"scatterpolar\":[{\"type\":\"scatterpolar\",\"marker\":{\"colorbar\":{\"outlinewidth\":0,\"ticks\":\"\"}}}],\"histogram\":[{\"marker\":{\"pattern\":{\"fillmode\":\"overlay\",\"size\":10,\"solidity\":0.2}},\"type\":\"histogram\"}],\"scattergl\":[{\"type\":\"scattergl\",\"marker\":{\"colorbar\":{\"outlinewidth\":0,\"ticks\":\"\"}}}],\"scatter3d\":[{\"type\":\"scatter3d\",\"line\":{\"colorbar\":{\"outlinewidth\":0,\"ticks\":\"\"}},\"marker\":{\"colorbar\":{\"outlinewidth\":0,\"ticks\":\"\"}}}],\"scattermapbox\":[{\"type\":\"scattermapbox\",\"marker\":{\"colorbar\":{\"outlinewidth\":0,\"ticks\":\"\"}}}],\"scatterternary\":[{\"type\":\"scatterternary\",\"marker\":{\"colorbar\":{\"outlinewidth\":0,\"ticks\":\"\"}}}],\"scattercarpet\":[{\"type\":\"scattercarpet\",\"marker\":{\"colorbar\":{\"outlinewidth\":0,\"ticks\":\"\"}}}],\"carpet\":[{\"aaxis\":{\"endlinecolor\":\"#2a3f5f\",\"gridcolor\":\"white\",\"linecolor\":\"white\",\"minorgridcolor\":\"white\",\"startlinecolor\":\"#2a3f5f\"},\"baxis\":{\"endlinecolor\":\"#2a3f5f\",\"gridcolor\":\"white\",\"linecolor\":\"white\",\"minorgridcolor\":\"white\",\"startlinecolor\":\"#2a3f5f\"},\"type\":\"carpet\"}],\"table\":[{\"cells\":{\"fill\":{\"color\":\"#EBF0F8\"},\"line\":{\"color\":\"white\"}},\"header\":{\"fill\":{\"color\":\"#C8D4E3\"},\"line\":{\"color\":\"white\"}},\"type\":\"table\"}],\"barpolar\":[{\"marker\":{\"line\":{\"color\":\"#E5ECF6\",\"width\":0.5},\"pattern\":{\"fillmode\":\"overlay\",\"size\":10,\"solidity\":0.2}},\"type\":\"barpolar\"}],\"pie\":[{\"automargin\":true,\"type\":\"pie\"}]},\"layout\":{\"autotypenumbers\":\"strict\",\"colorway\":[\"#636efa\",\"#EF553B\",\"#00cc96\",\"#ab63fa\",\"#FFA15A\",\"#19d3f3\",\"#FF6692\",\"#B6E880\",\"#FF97FF\",\"#FECB52\"],\"font\":{\"color\":\"#2a3f5f\"},\"hovermode\":\"closest\",\"hoverlabel\":{\"align\":\"left\"},\"paper_bgcolor\":\"white\",\"plot_bgcolor\":\"#E5ECF6\",\"polar\":{\"bgcolor\":\"#E5ECF6\",\"angularaxis\":{\"gridcolor\":\"white\",\"linecolor\":\"white\",\"ticks\":\"\"},\"radialaxis\":{\"gridcolor\":\"white\",\"linecolor\":\"white\",\"ticks\":\"\"}},\"ternary\":{\"bgcolor\":\"#E5ECF6\",\"aaxis\":{\"gridcolor\":\"white\",\"linecolor\":\"white\",\"ticks\":\"\"},\"baxis\":{\"gridcolor\":\"white\",\"linecolor\":\"white\",\"ticks\":\"\"},\"caxis\":{\"gridcolor\":\"white\",\"linecolor\":\"white\",\"ticks\":\"\"}},\"coloraxis\":{\"colorbar\":{\"outlinewidth\":0,\"ticks\":\"\"}},\"colorscale\":{\"sequential\":[[0.0,\"#0d0887\"],[0.1111111111111111,\"#46039f\"],[0.2222222222222222,\"#7201a8\"],[0.3333333333333333,\"#9c179e\"],[0.4444444444444444,\"#bd3786\"],[0.5555555555555556,\"#d8576b\"],[0.6666666666666666,\"#ed7953\"],[0.7777777777777778,\"#fb9f3a\"],[0.8888888888888888,\"#fdca26\"],[1.0,\"#f0f921\"]],\"sequentialminus\":[[0.0,\"#0d0887\"],[0.1111111111111111,\"#46039f\"],[0.2222222222222222,\"#7201a8\"],[0.3333333333333333,\"#9c179e\"],[0.4444444444444444,\"#bd3786\"],[0.5555555555555556,\"#d8576b\"],[0.6666666666666666,\"#ed7953\"],[0.7777777777777778,\"#fb9f3a\"],[0.8888888888888888,\"#fdca26\"],[1.0,\"#f0f921\"]],\"diverging\":[[0,\"#8e0152\"],[0.1,\"#c51b7d\"],[0.2,\"#de77ae\"],[0.3,\"#f1b6da\"],[0.4,\"#fde0ef\"],[0.5,\"#f7f7f7\"],[0.6,\"#e6f5d0\"],[0.7,\"#b8e186\"],[0.8,\"#7fbc41\"],[0.9,\"#4d9221\"],[1,\"#276419\"]]},\"xaxis\":{\"gridcolor\":\"white\",\"linecolor\":\"white\",\"ticks\":\"\",\"title\":{\"standoff\":15},\"zerolinecolor\":\"white\",\"automargin\":true,\"zerolinewidth\":2},\"yaxis\":{\"gridcolor\":\"white\",\"linecolor\":\"white\",\"ticks\":\"\",\"title\":{\"standoff\":15},\"zerolinecolor\":\"white\",\"automargin\":true,\"zerolinewidth\":2},\"scene\":{\"xaxis\":{\"backgroundcolor\":\"#E5ECF6\",\"gridcolor\":\"white\",\"linecolor\":\"white\",\"showbackground\":true,\"ticks\":\"\",\"zerolinecolor\":\"white\",\"gridwidth\":2},\"yaxis\":{\"backgroundcolor\":\"#E5ECF6\",\"gridcolor\":\"white\",\"linecolor\":\"white\",\"showbackground\":true,\"ticks\":\"\",\"zerolinecolor\":\"white\",\"gridwidth\":2},\"zaxis\":{\"backgroundcolor\":\"#E5ECF6\",\"gridcolor\":\"white\",\"linecolor\":\"white\",\"showbackground\":true,\"ticks\":\"\",\"zerolinecolor\":\"white\",\"gridwidth\":2}},\"shapedefaults\":{\"line\":{\"color\":\"#2a3f5f\"}},\"annotationdefaults\":{\"arrowcolor\":\"#2a3f5f\",\"arrowhead\":0,\"arrowwidth\":1},\"geo\":{\"bgcolor\":\"white\",\"landcolor\":\"#E5ECF6\",\"subunitcolor\":\"white\",\"showland\":true,\"showlakes\":true,\"lakecolor\":\"white\"},\"title\":{\"x\":0.05},\"mapbox\":{\"style\":\"light\"}}},\"scene\":{\"domain\":{\"x\":[0.0,1.0],\"y\":[0.0,1.0]},\"xaxis\":{\"title\":{\"text\":\"feature1\"}},\"yaxis\":{\"title\":{\"text\":\"feature2\"}},\"zaxis\":{\"title\":{\"text\":\"target\"}}},\"legend\":{\"tracegroupgap\":0},\"margin\":{\"t\":60}},                        {\"responsive\": true}                    ).then(function(){\n",
              "                            \n",
              "var gd = document.getElementById('d42536f3-fd1b-4ee0-b05a-19df25b3d43e');\n",
              "var x = new MutationObserver(function (mutations, observer) {{\n",
              "        var display = window.getComputedStyle(gd).display;\n",
              "        if (!display || display === 'none') {{\n",
              "            console.log([gd, 'removed!']);\n",
              "            Plotly.purge(gd);\n",
              "            observer.disconnect();\n",
              "        }}\n",
              "}});\n",
              "\n",
              "// Listen for the removal of the full notebook cells\n",
              "var notebookContainer = gd.closest('#notebook-container');\n",
              "if (notebookContainer) {{\n",
              "    x.observe(notebookContainer, {childList: true});\n",
              "}}\n",
              "\n",
              "// Listen for the clearing of the current output cell\n",
              "var outputEl = gd.closest('.output');\n",
              "if (outputEl) {{\n",
              "    x.observe(outputEl, {childList: true});\n",
              "}}\n",
              "\n",
              "                        })                };                            </script>        </div>\n",
              "</body>\n",
              "</html>"
            ]
          },
          "metadata": {}
        }
      ]
    },
    {
      "cell_type": "code",
      "metadata": {
        "id": "JuxDxS4JB80Z"
      },
      "source": [
        "from sklearn.model_selection import train_test_split\n",
        "X_train,X_test,y_train,y_test = train_test_split(X,y,test_size=0.2,random_state=3)"
      ],
      "execution_count": 10,
      "outputs": []
    },
    {
      "cell_type": "code",
      "metadata": {
        "id": "eG18yML6nl0h"
      },
      "source": [
        "from sklearn.linear_model import LinearRegression"
      ],
      "execution_count": 11,
      "outputs": []
    },
    {
      "cell_type": "code",
      "metadata": {
        "id": "W_OGmF3npCKC"
      },
      "source": [
        "lr = LinearRegression()"
      ],
      "execution_count": 12,
      "outputs": []
    },
    {
      "cell_type": "code",
      "metadata": {
        "colab": {
          "base_uri": "https://localhost:8080/",
          "height": 74
        },
        "id": "g6hR7U0epEBR",
        "outputId": "3ca7a230-7e44-46f1-846b-9cba41ef0e19"
      },
      "source": [
        "lr.fit(X_train,y_train)"
      ],
      "execution_count": 13,
      "outputs": [
        {
          "output_type": "execute_result",
          "data": {
            "text/plain": [
              "LinearRegression()"
            ],
            "text/html": [
              "<style>#sk-container-id-1 {color: black;background-color: white;}#sk-container-id-1 pre{padding: 0;}#sk-container-id-1 div.sk-toggleable {background-color: white;}#sk-container-id-1 label.sk-toggleable__label {cursor: pointer;display: block;width: 100%;margin-bottom: 0;padding: 0.3em;box-sizing: border-box;text-align: center;}#sk-container-id-1 label.sk-toggleable__label-arrow:before {content: \"▸\";float: left;margin-right: 0.25em;color: #696969;}#sk-container-id-1 label.sk-toggleable__label-arrow:hover:before {color: black;}#sk-container-id-1 div.sk-estimator:hover label.sk-toggleable__label-arrow:before {color: black;}#sk-container-id-1 div.sk-toggleable__content {max-height: 0;max-width: 0;overflow: hidden;text-align: left;background-color: #f0f8ff;}#sk-container-id-1 div.sk-toggleable__content pre {margin: 0.2em;color: black;border-radius: 0.25em;background-color: #f0f8ff;}#sk-container-id-1 input.sk-toggleable__control:checked~div.sk-toggleable__content {max-height: 200px;max-width: 100%;overflow: auto;}#sk-container-id-1 input.sk-toggleable__control:checked~label.sk-toggleable__label-arrow:before {content: \"▾\";}#sk-container-id-1 div.sk-estimator input.sk-toggleable__control:checked~label.sk-toggleable__label {background-color: #d4ebff;}#sk-container-id-1 div.sk-label input.sk-toggleable__control:checked~label.sk-toggleable__label {background-color: #d4ebff;}#sk-container-id-1 input.sk-hidden--visually {border: 0;clip: rect(1px 1px 1px 1px);clip: rect(1px, 1px, 1px, 1px);height: 1px;margin: -1px;overflow: hidden;padding: 0;position: absolute;width: 1px;}#sk-container-id-1 div.sk-estimator {font-family: monospace;background-color: #f0f8ff;border: 1px dotted black;border-radius: 0.25em;box-sizing: border-box;margin-bottom: 0.5em;}#sk-container-id-1 div.sk-estimator:hover {background-color: #d4ebff;}#sk-container-id-1 div.sk-parallel-item::after {content: \"\";width: 100%;border-bottom: 1px solid gray;flex-grow: 1;}#sk-container-id-1 div.sk-label:hover label.sk-toggleable__label {background-color: #d4ebff;}#sk-container-id-1 div.sk-serial::before {content: \"\";position: absolute;border-left: 1px solid gray;box-sizing: border-box;top: 0;bottom: 0;left: 50%;z-index: 0;}#sk-container-id-1 div.sk-serial {display: flex;flex-direction: column;align-items: center;background-color: white;padding-right: 0.2em;padding-left: 0.2em;position: relative;}#sk-container-id-1 div.sk-item {position: relative;z-index: 1;}#sk-container-id-1 div.sk-parallel {display: flex;align-items: stretch;justify-content: center;background-color: white;position: relative;}#sk-container-id-1 div.sk-item::before, #sk-container-id-1 div.sk-parallel-item::before {content: \"\";position: absolute;border-left: 1px solid gray;box-sizing: border-box;top: 0;bottom: 0;left: 50%;z-index: -1;}#sk-container-id-1 div.sk-parallel-item {display: flex;flex-direction: column;z-index: 1;position: relative;background-color: white;}#sk-container-id-1 div.sk-parallel-item:first-child::after {align-self: flex-end;width: 50%;}#sk-container-id-1 div.sk-parallel-item:last-child::after {align-self: flex-start;width: 50%;}#sk-container-id-1 div.sk-parallel-item:only-child::after {width: 0;}#sk-container-id-1 div.sk-dashed-wrapped {border: 1px dashed gray;margin: 0 0.4em 0.5em 0.4em;box-sizing: border-box;padding-bottom: 0.4em;background-color: white;}#sk-container-id-1 div.sk-label label {font-family: monospace;font-weight: bold;display: inline-block;line-height: 1.2em;}#sk-container-id-1 div.sk-label-container {text-align: center;}#sk-container-id-1 div.sk-container {/* jupyter's `normalize.less` sets `[hidden] { display: none; }` but bootstrap.min.css set `[hidden] { display: none !important; }` so we also need the `!important` here to be able to override the default hidden behavior on the sphinx rendered scikit-learn.org. See: https://github.com/scikit-learn/scikit-learn/issues/21755 */display: inline-block !important;position: relative;}#sk-container-id-1 div.sk-text-repr-fallback {display: none;}</style><div id=\"sk-container-id-1\" class=\"sk-top-container\"><div class=\"sk-text-repr-fallback\"><pre>LinearRegression()</pre><b>In a Jupyter environment, please rerun this cell to show the HTML representation or trust the notebook. <br />On GitHub, the HTML representation is unable to render, please try loading this page with nbviewer.org.</b></div><div class=\"sk-container\" hidden><div class=\"sk-item\"><div class=\"sk-estimator sk-toggleable\"><input class=\"sk-toggleable__control sk-hidden--visually\" id=\"sk-estimator-id-1\" type=\"checkbox\" checked><label for=\"sk-estimator-id-1\" class=\"sk-toggleable__label sk-toggleable__label-arrow\">LinearRegression</label><div class=\"sk-toggleable__content\"><pre>LinearRegression()</pre></div></div></div></div></div>"
            ]
          },
          "metadata": {},
          "execution_count": 13
        }
      ]
    },
    {
      "cell_type": "code",
      "metadata": {
        "id": "eKExpiVMpF9F",
        "outputId": "6148d3ce-c5f9-4cb6-fab7-06842012fed3",
        "colab": {
          "base_uri": "https://localhost:8080/"
        }
      },
      "source": [
        "y_pred = lr.predict(X_test)\n",
        "y_pred"
      ],
      "execution_count": 14,
      "outputs": [
        {
          "output_type": "execute_result",
          "data": {
            "text/plain": [
              "array([-172.98339822,  109.1130278 , -136.36438602,   19.66388167,\n",
              "         -4.30974152,   40.77692673,   93.77277111,   75.10877344,\n",
              "       -167.68818958,  -40.46424192,  -23.7887916 ,   61.90743651,\n",
              "         53.41138294,   34.11165672,   50.16506112,  -31.72313954,\n",
              "        -67.39396758, -102.20580986,   -7.74026216,  127.60386263])"
            ]
          },
          "metadata": {},
          "execution_count": 14
        }
      ]
    },
    {
      "cell_type": "code",
      "source": [
        "y_test"
      ],
      "metadata": {
        "id": "fb0LoS79OTPT",
        "outputId": "39b88035-719f-4f93-d930-d76db7d6a599",
        "colab": {
          "base_uri": "https://localhost:8080/"
        }
      },
      "execution_count": 16,
      "outputs": [
        {
          "output_type": "execute_result",
          "data": {
            "text/plain": [
              "array([-103.12140763,  100.51236299, -130.45071438,   34.00345439,\n",
              "        -59.95024725,   16.93860364,  128.26637825,   49.07152469,\n",
              "       -230.5262195 ,   28.4195274 ,   31.31244284,   96.77879264,\n",
              "         -9.07222986,  -69.47591087,   26.3396505 ,  -74.45619792,\n",
              "        -23.59725055, -182.87420722,  -59.22199129,   78.46609524])"
            ]
          },
          "metadata": {},
          "execution_count": 16
        }
      ]
    },
    {
      "cell_type": "code",
      "metadata": {
        "colab": {
          "base_uri": "https://localhost:8080/"
        },
        "id": "90AXRhgzrSW_",
        "outputId": "f05131b6-687a-4f34-fff1-7fd9a9e3b822"
      },
      "source": [
        "print(\"MAE:\",mean_absolute_error(y_test,y_pred))\n",
        "print(\"MSE:\",mean_squared_error(y_test,y_pred))\n",
        "print(\"R2-score:\",r2_score(y_test,y_pred))"
      ],
      "execution_count": 18,
      "outputs": [
        {
          "output_type": "stream",
          "name": "stdout",
          "text": [
            "MAE: 45.90671172926705\n",
            "MSE: 2709.583693531614\n",
            "R2-score: 0.6895193860571215\n"
          ]
        }
      ]
    },
    {
      "cell_type": "code",
      "source": [
        "x = np.linspace(-5, 5, 10)\n",
        "y = np.linspace(-5, 5, 10)\n",
        "xGrid, yGrid = np.meshgrid(y, x)\n",
        "\n",
        "z_final = lr.predict(final).reshape(10,10)\n",
        "\n",
        "z = z_final\n",
        "\n",
        "final = np.vstack((xGrid.ravel().reshape(1,100),yGrid.ravel().reshape(1,100))).T"
      ],
      "metadata": {
        "id": "msoHed53lEIW"
      },
      "execution_count": 76,
      "outputs": []
    },
    {
      "cell_type": "code",
      "metadata": {
        "colab": {
          "base_uri": "https://localhost:8080/",
          "height": 542
        },
        "id": "NpAvnU-t3yV0",
        "outputId": "5ac987fd-1535-4ff0-813d-2ed97a8e4184"
      },
      "source": [
        "fig = px.scatter_3d(df, x='feature1', y='feature2', z='target')\n",
        "\n",
        "fig.add_trace(go.Surface(x = x, y = y, z =z ))\n",
        "\n",
        "fig.show()"
      ],
      "execution_count": 77,
      "outputs": [
        {
          "output_type": "display_data",
          "data": {
            "text/html": [
              "<html>\n",
              "<head><meta charset=\"utf-8\" /></head>\n",
              "<body>\n",
              "    <div>            <script src=\"https://cdnjs.cloudflare.com/ajax/libs/mathjax/2.7.5/MathJax.js?config=TeX-AMS-MML_SVG\"></script><script type=\"text/javascript\">if (window.MathJax && window.MathJax.Hub && window.MathJax.Hub.Config) {window.MathJax.Hub.Config({SVG: {font: \"STIX-Web\"}});}</script>                <script type=\"text/javascript\">window.PlotlyConfig = {MathJaxConfig: 'local'};</script>\n",
              "        <script src=\"https://cdn.plot.ly/plotly-2.18.2.min.js\"></script>                <div id=\"19a10c39-db8d-43dd-81aa-3b8e9925d081\" class=\"plotly-graph-div\" style=\"height:525px; width:100%;\"></div>            <script type=\"text/javascript\">                                    window.PLOTLYENV=window.PLOTLYENV || {};                                    if (document.getElementById(\"19a10c39-db8d-43dd-81aa-3b8e9925d081\")) {                    Plotly.newPlot(                        \"19a10c39-db8d-43dd-81aa-3b8e9925d081\",                        [{\"hovertemplate\":\"feature1=%{x}<br>feature2=%{y}<br>target=%{z}<extra></extra>\",\"legendgroup\":\"\",\"marker\":{\"color\":\"#636efa\",\"symbol\":\"circle\"},\"mode\":\"markers\",\"name\":\"\",\"scene\":\"scene\",\"showlegend\":false,\"x\":[-0.6554389141878494,0.5047097160333148,0.03477968062874954,-0.7500153224915376,1.2506135113646744,2.0695233287156087,-2.1509153053149324,-1.4126326842737642,-0.8267584112704621,-0.20055825752398612,-0.16385843912296813,-1.9182964715831072,0.3613945893364836,-0.1015136799779095,1.726849704108861,-0.6443957181359908,-0.8771451909867569,0.7265752285597094,-0.07333457215262949,-0.6233034609408095,-0.3294994378424156,-0.23225810632589303,-0.2802642672242783,1.209592786443382,1.5409731338645438,-0.38150307503143954,0.5514053114372308,-0.3587527103161328,1.5687120724930987,-0.06458594145035323,-0.6205605594281649,-1.5721338568712362,0.021299932233273304,1.2338477026599226,-1.0118724069355922,-0.3272549170924632,1.0949154846061715,-1.829332486215789,1.0363333155524523,-0.6840147301517282,-0.8186387727559074,-0.4713366019306692,-1.1701943140582027,0.6242039072162094,-0.7214789420088465,1.3408126907606284,-0.2684133927987015,-2.1013091831025448,0.8362160278596201,0.2711737703926238,0.3106266183043934,0.6716868571484773,0.11130278258717564,0.30857039522968754,0.6759399139628526,-1.2032063926200434,-0.3051709173651765,0.26837011338060945,-0.2956659593908797,0.19242713608248255,-0.6565121080506449,0.7533914341460752,0.39469844388560177,0.19826208002754991,-2.5565610425833944,-0.0052338292908183206,-1.2998887671197032,0.5587630792759928,-0.9677294987443549,0.1929656568137457,-0.7581360361110031,-1.5637733925992585,0.692170978295176,-0.040036954687096414,-0.44552750008751746,-0.49844017209885627,2.017361445735021,1.1402300149301692,0.3438243129559625,1.198343093122941,-1.7026210874159085,0.7819671601527722,0.30001582084396317,-0.7330706861338142,0.6295865930103302,1.073431944808935,-0.5480041826124988,-0.7738605365746692,-1.2507353510059034,0.6710139997861923,-1.1277771055501409,1.0667032384908606,0.01643403842002146,-0.39984250712461694,1.0704289432488499,0.70268023727383,-0.23557728914000778,0.2623157906717061,0.7345547426971019,-2.1409230778945543],\"y\":[0.7546665457137834,-0.7740901214050997,0.7144330244201325,0.05934125480124652,1.7782798546820133,-0.40861829966362906,-0.3147376284819688,0.8316523955430565,-0.6723156380353608,-0.5505843925436822,-0.03985683042554149,1.1254193691056291,0.7826570198103754,-1.9035581460283015,0.5062042812704527,-0.8317705884626796,0.9211565160558681,-1.435866610159598,0.9251737732199667,-0.5849006955513363,-1.4635360422525368,-0.5915386392973909,-0.45701841889123507,-0.20146990250513724,-0.9427648843597822,1.2799049209924782,0.8668191224022199,-0.43152822936005597,0.5950540004204561,-0.9310764308471228,-1.3667543757204847,-0.04822754659524444,2.694446880583462,0.16414475854155136,-0.4644491714316412,0.1372523146438698,1.2105372867815274,1.1325328685008709,-0.31824495659774177,0.9607050997152704,1.1018895443847871,-0.9625068374048443,-2.12226728750557,0.1332315375611314,-0.32535280533940647,-0.2653394639994099,0.3103979135261065,-1.3267385677920573,-0.332639964661677,1.1783945107087226,0.5549231377123374,1.2491848341265392,0.6383856163820844,0.46941947125383987,1.8394620598280027,-0.38831644811905425,-0.16050176280624065,0.43401778332223945,-0.7992954049289115,-0.43977808934505097,0.5740918714428463,0.7906233919789094,-0.4228595683702117,-1.2910837481201352,-0.24546988317362506,0.8032313248896802,-0.7050891316741047,-1.100274230693218,1.1379519677440142,-0.5224065014038262,0.21796859508650596,-0.05670861160721594,0.5731748585827285,0.49242469891039614,0.21511971175682534,-1.0262727650552488,1.0659460527791407,0.4861276681405473,1.0741797532127364,-1.0658633238791972,1.5687990663360978,0.3599092628330162,-1.270371516770184,0.8607407538744011,-1.376219315362661,-0.6628222001970125,-1.3867417065530685,-0.008765281218292146,0.45452211477840027,0.1484671637581161,-0.02310366735445347,-0.23656397979387883,-0.6845575086525096,1.0147946963621863,0.5400816007544266,0.89825569188279,-0.3342280250439268,-1.407240461595405,0.7710739150829059,1.131217596904044],\"z\":[83.86703962327145,-130.13208125997534,28.325584077582626,-61.7130971127561,191.84445063098318,130.4939032809288,-170.55308192509506,88.45425257231506,-72.33610124076301,-90.138487430579,23.58847774665052,2.3684191707937288,84.43253836407361,-145.89845805585844,123.0584659774531,-181.66526079870408,-4.213894193414205,-198.3005727409356,177.29217750400989,-84.86595327083808,-105.47069923273098,-50.05328548541538,-143.45803626890057,69.58447578189981,-70.37661918534697,-10.180850162479842,53.80438264978836,-163.87741785765851,101.85241630306216,-123.1196201863466,-149.01477222708797,-124.42298749195025,224.03038929857686,-12.906994715466851,-69.31785070886151,45.93637134373552,157.66813407113833,87.95720411185508,27.8972660656576,54.8131197801754,94.9639907716907,-137.10308140060246,-254.64209596184742,87.14674511865903,-3.639921164320988,150.54282133057922,-22.216548105368833,-297.6787166568779,38.198448146937125,100.1130407399182,120.52196319574237,129.20935161548914,61.00897544146399,36.19689747357252,134.17803217210104,26.912812069961575,-1.538263388702486,89.34880951404028,-75.20985779663359,1.5152823068839396,-28.959179896062075,143.46267461486445,58.879827787187224,-126.7428648190345,-76.84242641746307,103.8513778498427,-143.2140969405464,-15.336240034753445,24.180597195973405,-95.29031216087421,17.517316824618646,-74.0377425902505,62.931171065464945,116.74447176926235,60.20174035165285,-131.5330216966097,143.7684263687339,57.22234325786467,102.83244233421945,-62.63919896702386,-38.4697206354587,90.70724020624804,-42.3825646149257,111.88923351587556,-100.26000411533931,-10.654864659501442,-154.4846663572943,-14.777215521622512,-2.1937386572195003,-10.846129320242689,-67.80073735327191,-57.031579344346405,-95.8572215982646,146.56022896154457,93.08832032055457,169.7333841226903,77.85091127750917,-126.50610651315745,44.69557459059745,20.22284383127156],\"type\":\"scatter3d\"},{\"x\":[-5.0,-3.888888888888889,-2.7777777777777777,-1.6666666666666665,-0.5555555555555554,0.5555555555555554,1.666666666666667,2.7777777777777786,3.8888888888888893,5.0],\"y\":[-5.0,-3.888888888888889,-2.7777777777777777,-1.6666666666666665,-0.5555555555555554,0.5555555555555554,1.666666666666667,2.7777777777777786,3.8888888888888893,5.0],\"z\":[[-674.5963425504895,-629.6083817988873,-584.6204210472853,-539.6324602956831,-494.64449954408104,-449.656538792479,-404.66857804087687,-359.6806172892747,-314.69265653767263,-269.70469578607054],[-570.5849313802429,-525.5969706286407,-480.60900987703866,-435.62104912543657,-390.6330883738345,-345.64512762223234,-300.65716687063025,-255.66920611902808,-210.681245367426,-165.6932846158239],[-466.5735202099963,-421.58555945839413,-376.59759870679204,-331.60963795518995,-286.6216772035878,-241.63371645198572,-196.6457557003836,-151.65779494878146,-106.66983419717938,-61.681873445577295],[-362.5621090397496,-317.5741482881475,-272.5861875365454,-227.59822678494325,-182.61026603334116,-137.62230528173907,-92.63434453013696,-47.64638377853484,-2.658423026932735,42.32953772466935],[-258.550697869503,-213.56273711790087,-168.57477636629875,-123.58681561469665,-78.59885486309454,-33.610894111492456,11.377066640109678,56.36502739171179,101.3529881433139,146.340948894916],[-154.5392866992564,-109.55132594765428,-64.56336519605217,-19.575404444450054,25.412556307152048,70.40051705875413,115.38847781035626,160.3764385619584,205.36439931356048,250.35236006516257],[-50.527875529009705,-5.539914777407586,39.448045974194514,84.43600672579663,129.42396747739875,174.41192822900084,219.39988898060298,264.38784973220504,309.37581048380713,354.3637712354093],[53.48353564123694,98.47149639283906,143.4594571444412,188.44741789604328,233.4353786476454,278.4233393992475,323.41130015084957,368.3992609024517,413.3872216540538,458.3751824056559],[157.49494681148357,202.4829075630857,247.4708683146878,292.45882906628987,337.446789817892,382.43475056949404,427.4227113210962,472.41067207269833,517.3986328243005,562.3865935759026],[261.5063579817301,306.49431873333225,351.48227948493434,396.4702402365364,441.45820098813857,486.4461617397406,531.4341224913428,576.422083242945,621.410043994547,666.3980047461491]],\"type\":\"surface\"}],                        {\"template\":{\"data\":{\"histogram2dcontour\":[{\"type\":\"histogram2dcontour\",\"colorbar\":{\"outlinewidth\":0,\"ticks\":\"\"},\"colorscale\":[[0.0,\"#0d0887\"],[0.1111111111111111,\"#46039f\"],[0.2222222222222222,\"#7201a8\"],[0.3333333333333333,\"#9c179e\"],[0.4444444444444444,\"#bd3786\"],[0.5555555555555556,\"#d8576b\"],[0.6666666666666666,\"#ed7953\"],[0.7777777777777778,\"#fb9f3a\"],[0.8888888888888888,\"#fdca26\"],[1.0,\"#f0f921\"]]}],\"choropleth\":[{\"type\":\"choropleth\",\"colorbar\":{\"outlinewidth\":0,\"ticks\":\"\"}}],\"histogram2d\":[{\"type\":\"histogram2d\",\"colorbar\":{\"outlinewidth\":0,\"ticks\":\"\"},\"colorscale\":[[0.0,\"#0d0887\"],[0.1111111111111111,\"#46039f\"],[0.2222222222222222,\"#7201a8\"],[0.3333333333333333,\"#9c179e\"],[0.4444444444444444,\"#bd3786\"],[0.5555555555555556,\"#d8576b\"],[0.6666666666666666,\"#ed7953\"],[0.7777777777777778,\"#fb9f3a\"],[0.8888888888888888,\"#fdca26\"],[1.0,\"#f0f921\"]]}],\"heatmap\":[{\"type\":\"heatmap\",\"colorbar\":{\"outlinewidth\":0,\"ticks\":\"\"},\"colorscale\":[[0.0,\"#0d0887\"],[0.1111111111111111,\"#46039f\"],[0.2222222222222222,\"#7201a8\"],[0.3333333333333333,\"#9c179e\"],[0.4444444444444444,\"#bd3786\"],[0.5555555555555556,\"#d8576b\"],[0.6666666666666666,\"#ed7953\"],[0.7777777777777778,\"#fb9f3a\"],[0.8888888888888888,\"#fdca26\"],[1.0,\"#f0f921\"]]}],\"heatmapgl\":[{\"type\":\"heatmapgl\",\"colorbar\":{\"outlinewidth\":0,\"ticks\":\"\"},\"colorscale\":[[0.0,\"#0d0887\"],[0.1111111111111111,\"#46039f\"],[0.2222222222222222,\"#7201a8\"],[0.3333333333333333,\"#9c179e\"],[0.4444444444444444,\"#bd3786\"],[0.5555555555555556,\"#d8576b\"],[0.6666666666666666,\"#ed7953\"],[0.7777777777777778,\"#fb9f3a\"],[0.8888888888888888,\"#fdca26\"],[1.0,\"#f0f921\"]]}],\"contourcarpet\":[{\"type\":\"contourcarpet\",\"colorbar\":{\"outlinewidth\":0,\"ticks\":\"\"}}],\"contour\":[{\"type\":\"contour\",\"colorbar\":{\"outlinewidth\":0,\"ticks\":\"\"},\"colorscale\":[[0.0,\"#0d0887\"],[0.1111111111111111,\"#46039f\"],[0.2222222222222222,\"#7201a8\"],[0.3333333333333333,\"#9c179e\"],[0.4444444444444444,\"#bd3786\"],[0.5555555555555556,\"#d8576b\"],[0.6666666666666666,\"#ed7953\"],[0.7777777777777778,\"#fb9f3a\"],[0.8888888888888888,\"#fdca26\"],[1.0,\"#f0f921\"]]}],\"surface\":[{\"type\":\"surface\",\"colorbar\":{\"outlinewidth\":0,\"ticks\":\"\"},\"colorscale\":[[0.0,\"#0d0887\"],[0.1111111111111111,\"#46039f\"],[0.2222222222222222,\"#7201a8\"],[0.3333333333333333,\"#9c179e\"],[0.4444444444444444,\"#bd3786\"],[0.5555555555555556,\"#d8576b\"],[0.6666666666666666,\"#ed7953\"],[0.7777777777777778,\"#fb9f3a\"],[0.8888888888888888,\"#fdca26\"],[1.0,\"#f0f921\"]]}],\"mesh3d\":[{\"type\":\"mesh3d\",\"colorbar\":{\"outlinewidth\":0,\"ticks\":\"\"}}],\"scatter\":[{\"fillpattern\":{\"fillmode\":\"overlay\",\"size\":10,\"solidity\":0.2},\"type\":\"scatter\"}],\"parcoords\":[{\"type\":\"parcoords\",\"line\":{\"colorbar\":{\"outlinewidth\":0,\"ticks\":\"\"}}}],\"scatterpolargl\":[{\"type\":\"scatterpolargl\",\"marker\":{\"colorbar\":{\"outlinewidth\":0,\"ticks\":\"\"}}}],\"bar\":[{\"error_x\":{\"color\":\"#2a3f5f\"},\"error_y\":{\"color\":\"#2a3f5f\"},\"marker\":{\"line\":{\"color\":\"#E5ECF6\",\"width\":0.5},\"pattern\":{\"fillmode\":\"overlay\",\"size\":10,\"solidity\":0.2}},\"type\":\"bar\"}],\"scattergeo\":[{\"type\":\"scattergeo\",\"marker\":{\"colorbar\":{\"outlinewidth\":0,\"ticks\":\"\"}}}],\"scatterpolar\":[{\"type\":\"scatterpolar\",\"marker\":{\"colorbar\":{\"outlinewidth\":0,\"ticks\":\"\"}}}],\"histogram\":[{\"marker\":{\"pattern\":{\"fillmode\":\"overlay\",\"size\":10,\"solidity\":0.2}},\"type\":\"histogram\"}],\"scattergl\":[{\"type\":\"scattergl\",\"marker\":{\"colorbar\":{\"outlinewidth\":0,\"ticks\":\"\"}}}],\"scatter3d\":[{\"type\":\"scatter3d\",\"line\":{\"colorbar\":{\"outlinewidth\":0,\"ticks\":\"\"}},\"marker\":{\"colorbar\":{\"outlinewidth\":0,\"ticks\":\"\"}}}],\"scattermapbox\":[{\"type\":\"scattermapbox\",\"marker\":{\"colorbar\":{\"outlinewidth\":0,\"ticks\":\"\"}}}],\"scatterternary\":[{\"type\":\"scatterternary\",\"marker\":{\"colorbar\":{\"outlinewidth\":0,\"ticks\":\"\"}}}],\"scattercarpet\":[{\"type\":\"scattercarpet\",\"marker\":{\"colorbar\":{\"outlinewidth\":0,\"ticks\":\"\"}}}],\"carpet\":[{\"aaxis\":{\"endlinecolor\":\"#2a3f5f\",\"gridcolor\":\"white\",\"linecolor\":\"white\",\"minorgridcolor\":\"white\",\"startlinecolor\":\"#2a3f5f\"},\"baxis\":{\"endlinecolor\":\"#2a3f5f\",\"gridcolor\":\"white\",\"linecolor\":\"white\",\"minorgridcolor\":\"white\",\"startlinecolor\":\"#2a3f5f\"},\"type\":\"carpet\"}],\"table\":[{\"cells\":{\"fill\":{\"color\":\"#EBF0F8\"},\"line\":{\"color\":\"white\"}},\"header\":{\"fill\":{\"color\":\"#C8D4E3\"},\"line\":{\"color\":\"white\"}},\"type\":\"table\"}],\"barpolar\":[{\"marker\":{\"line\":{\"color\":\"#E5ECF6\",\"width\":0.5},\"pattern\":{\"fillmode\":\"overlay\",\"size\":10,\"solidity\":0.2}},\"type\":\"barpolar\"}],\"pie\":[{\"automargin\":true,\"type\":\"pie\"}]},\"layout\":{\"autotypenumbers\":\"strict\",\"colorway\":[\"#636efa\",\"#EF553B\",\"#00cc96\",\"#ab63fa\",\"#FFA15A\",\"#19d3f3\",\"#FF6692\",\"#B6E880\",\"#FF97FF\",\"#FECB52\"],\"font\":{\"color\":\"#2a3f5f\"},\"hovermode\":\"closest\",\"hoverlabel\":{\"align\":\"left\"},\"paper_bgcolor\":\"white\",\"plot_bgcolor\":\"#E5ECF6\",\"polar\":{\"bgcolor\":\"#E5ECF6\",\"angularaxis\":{\"gridcolor\":\"white\",\"linecolor\":\"white\",\"ticks\":\"\"},\"radialaxis\":{\"gridcolor\":\"white\",\"linecolor\":\"white\",\"ticks\":\"\"}},\"ternary\":{\"bgcolor\":\"#E5ECF6\",\"aaxis\":{\"gridcolor\":\"white\",\"linecolor\":\"white\",\"ticks\":\"\"},\"baxis\":{\"gridcolor\":\"white\",\"linecolor\":\"white\",\"ticks\":\"\"},\"caxis\":{\"gridcolor\":\"white\",\"linecolor\":\"white\",\"ticks\":\"\"}},\"coloraxis\":{\"colorbar\":{\"outlinewidth\":0,\"ticks\":\"\"}},\"colorscale\":{\"sequential\":[[0.0,\"#0d0887\"],[0.1111111111111111,\"#46039f\"],[0.2222222222222222,\"#7201a8\"],[0.3333333333333333,\"#9c179e\"],[0.4444444444444444,\"#bd3786\"],[0.5555555555555556,\"#d8576b\"],[0.6666666666666666,\"#ed7953\"],[0.7777777777777778,\"#fb9f3a\"],[0.8888888888888888,\"#fdca26\"],[1.0,\"#f0f921\"]],\"sequentialminus\":[[0.0,\"#0d0887\"],[0.1111111111111111,\"#46039f\"],[0.2222222222222222,\"#7201a8\"],[0.3333333333333333,\"#9c179e\"],[0.4444444444444444,\"#bd3786\"],[0.5555555555555556,\"#d8576b\"],[0.6666666666666666,\"#ed7953\"],[0.7777777777777778,\"#fb9f3a\"],[0.8888888888888888,\"#fdca26\"],[1.0,\"#f0f921\"]],\"diverging\":[[0,\"#8e0152\"],[0.1,\"#c51b7d\"],[0.2,\"#de77ae\"],[0.3,\"#f1b6da\"],[0.4,\"#fde0ef\"],[0.5,\"#f7f7f7\"],[0.6,\"#e6f5d0\"],[0.7,\"#b8e186\"],[0.8,\"#7fbc41\"],[0.9,\"#4d9221\"],[1,\"#276419\"]]},\"xaxis\":{\"gridcolor\":\"white\",\"linecolor\":\"white\",\"ticks\":\"\",\"title\":{\"standoff\":15},\"zerolinecolor\":\"white\",\"automargin\":true,\"zerolinewidth\":2},\"yaxis\":{\"gridcolor\":\"white\",\"linecolor\":\"white\",\"ticks\":\"\",\"title\":{\"standoff\":15},\"zerolinecolor\":\"white\",\"automargin\":true,\"zerolinewidth\":2},\"scene\":{\"xaxis\":{\"backgroundcolor\":\"#E5ECF6\",\"gridcolor\":\"white\",\"linecolor\":\"white\",\"showbackground\":true,\"ticks\":\"\",\"zerolinecolor\":\"white\",\"gridwidth\":2},\"yaxis\":{\"backgroundcolor\":\"#E5ECF6\",\"gridcolor\":\"white\",\"linecolor\":\"white\",\"showbackground\":true,\"ticks\":\"\",\"zerolinecolor\":\"white\",\"gridwidth\":2},\"zaxis\":{\"backgroundcolor\":\"#E5ECF6\",\"gridcolor\":\"white\",\"linecolor\":\"white\",\"showbackground\":true,\"ticks\":\"\",\"zerolinecolor\":\"white\",\"gridwidth\":2}},\"shapedefaults\":{\"line\":{\"color\":\"#2a3f5f\"}},\"annotationdefaults\":{\"arrowcolor\":\"#2a3f5f\",\"arrowhead\":0,\"arrowwidth\":1},\"geo\":{\"bgcolor\":\"white\",\"landcolor\":\"#E5ECF6\",\"subunitcolor\":\"white\",\"showland\":true,\"showlakes\":true,\"lakecolor\":\"white\"},\"title\":{\"x\":0.05},\"mapbox\":{\"style\":\"light\"}}},\"scene\":{\"domain\":{\"x\":[0.0,1.0],\"y\":[0.0,1.0]},\"xaxis\":{\"title\":{\"text\":\"feature1\"}},\"yaxis\":{\"title\":{\"text\":\"feature2\"}},\"zaxis\":{\"title\":{\"text\":\"target\"}}},\"legend\":{\"tracegroupgap\":0},\"margin\":{\"t\":60}},                        {\"responsive\": true}                    ).then(function(){\n",
              "                            \n",
              "var gd = document.getElementById('19a10c39-db8d-43dd-81aa-3b8e9925d081');\n",
              "var x = new MutationObserver(function (mutations, observer) {{\n",
              "        var display = window.getComputedStyle(gd).display;\n",
              "        if (!display || display === 'none') {{\n",
              "            console.log([gd, 'removed!']);\n",
              "            Plotly.purge(gd);\n",
              "            observer.disconnect();\n",
              "        }}\n",
              "}});\n",
              "\n",
              "// Listen for the removal of the full notebook cells\n",
              "var notebookContainer = gd.closest('#notebook-container');\n",
              "if (notebookContainer) {{\n",
              "    x.observe(notebookContainer, {childList: true});\n",
              "}}\n",
              "\n",
              "// Listen for the clearing of the current output cell\n",
              "var outputEl = gd.closest('.output');\n",
              "if (outputEl) {{\n",
              "    x.observe(outputEl, {childList: true});\n",
              "}}\n",
              "\n",
              "                        })                };                            </script>        </div>\n",
              "</body>\n",
              "</html>"
            ]
          },
          "metadata": {}
        }
      ]
    },
    {
      "cell_type": "code",
      "metadata": {
        "colab": {
          "base_uri": "https://localhost:8080/"
        },
        "id": "YVdgVIn_5ElG",
        "outputId": "4981763b-d36e-4bf4-b5e1-b0d34c0ae2e7"
      },
      "source": [
        "lr.coef_"
      ],
      "execution_count": null,
      "outputs": [
        {
          "output_type": "execute_result",
          "data": {
            "text/plain": [
              "array([59.64518074, 13.20409431])"
            ]
          },
          "metadata": {
            "tags": []
          },
          "execution_count": 226
        }
      ]
    },
    {
      "cell_type": "code",
      "metadata": {
        "colab": {
          "base_uri": "https://localhost:8080/"
        },
        "id": "kIVDDKIynz1b",
        "outputId": "aed35369-2dfe-4dbd-d606-18550add93f5"
      },
      "source": [
        "lr.intercept_"
      ],
      "execution_count": null,
      "outputs": [
        {
          "output_type": "execute_result",
          "data": {
            "text/plain": [
              "-7.55491251398082"
            ]
          },
          "metadata": {
            "tags": []
          },
          "execution_count": 227
        }
      ]
    }
  ]
}